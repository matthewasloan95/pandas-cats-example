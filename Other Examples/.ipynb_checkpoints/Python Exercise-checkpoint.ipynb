{
 "cells": [
  {
   "cell_type": "markdown",
   "id": "758d0e1b",
   "metadata": {},
   "source": [
    "# Python Exercise"
   ]
  },
  {
   "cell_type": "markdown",
   "id": "8c9ffcb0",
   "metadata": {},
   "source": [
    "Python can be downloaded [here](https://www.python.org/downloads/) and documentation can be viewed [here](https://docs.python.org/3/).  \n",
    "  \n",
    "Python is an \"interpreted high-level general-purpose programming language\" ([Wikipedia](https://en.wikipedia.org/wiki/Python_(programming_language))). The fact that it is an interpreted language means that the source code we write is converted into machine code line by line, rather than all at once. More on this can be read [here](https://pediaa.com/what-is-the-difference-between-interpreted-and-compiled-language/#:~:text=Difference%20Between%20Interpreted%20and%20Compiled%20Language%201%20Definition.,Functionality.%20...%203%20Languages.%20...%204%20Conclusion.%20). Python is object-oriented, dynamically typed (a variable's data type can change), and white space dependent (can't mess up the tab spaces or things will break!).\n",
    "\n",
    "When submitting this file to Canvas, submit both the **.ipynb** (notebook file) and **html** file versions. To download the **html** version, click *File > Download as > HTML (.html)*. We will be checking for completion as  a part of your participation. The solution to this file will then be posted for you to check."
   ]
  },
  {
   "cell_type": "markdown",
   "id": "4c380761",
   "metadata": {},
   "source": [
    "<img src=\"\n",
    "https://c.tenor.com/4M_drLvIxWcAAAAC/snake-gentleman.gif\" alt=\"drawing\" width=\"200\"/>"
   ]
  },
  {
   "cell_type": "markdown",
   "id": "bb577af1",
   "metadata": {},
   "source": [
    "<hr>"
   ]
  },
  {
   "cell_type": "markdown",
   "id": "46dde06f",
   "metadata": {},
   "source": [
    "## 1. Print hello world :)"
   ]
  },
  {
   "cell_type": "code",
   "execution_count": null,
   "id": "9440837b",
   "metadata": {},
   "outputs": [],
   "source": [
    "print('hello world :)')"
   ]
  },
  {
   "cell_type": "markdown",
   "id": "f81f2776",
   "metadata": {},
   "source": [
    "<hr>"
   ]
  },
  {
   "cell_type": "markdown",
   "id": "c142b76d",
   "metadata": {},
   "source": [
    "## 2. Read in two values (user input), convert to integers, and then print the sum"
   ]
  },
  {
   "cell_type": "code",
   "execution_count": null,
   "id": "dc65397d",
   "metadata": {},
   "outputs": [],
   "source": [
    "int1 = input('something to convert to integers 1: ')"
   ]
  },
  {
   "cell_type": "code",
   "execution_count": null,
   "id": "0e3b57fb",
   "metadata": {},
   "outputs": [],
   "source": [
    "int2 = input('something to convert to integers 2: ')"
   ]
  },
  {
   "cell_type": "code",
   "execution_count": null,
   "id": "1a24e149",
   "metadata": {},
   "outputs": [],
   "source": [
    "print(int(int1) + int(int2))"
   ]
  },
  {
   "cell_type": "markdown",
   "id": "bf4bbf5f",
   "metadata": {},
   "source": [
    "Note: `type(variable)` lets you check the data type of `variable`."
   ]
  },
  {
   "cell_type": "code",
   "execution_count": null,
   "id": "8aa2af92",
   "metadata": {},
   "outputs": [],
   "source": [
    "type(int1)"
   ]
  },
  {
   "cell_type": "markdown",
   "id": "6ace76bd",
   "metadata": {},
   "source": [
    "Note: In jupyter notebooks, you can also display values without the `print` (shown below)."
   ]
  },
  {
   "cell_type": "code",
   "execution_count": null,
   "id": "199f5257",
   "metadata": {},
   "outputs": [],
   "source": [
    "int1 + int2"
   ]
  },
  {
   "cell_type": "markdown",
   "id": "4ca79145",
   "metadata": {},
   "source": [
    "**Question: What prints if you don't convert to integers first?**"
   ]
  },
  {
   "cell_type": "code",
   "execution_count": null,
   "id": "6f4af95b",
   "metadata": {},
   "outputs": [],
   "source": [
    "print(type(input('integer input: ')))"
   ]
  },
  {
   "cell_type": "code",
   "execution_count": null,
   "id": "0abff3ae",
   "metadata": {},
   "outputs": [],
   "source": [
    "# string"
   ]
  },
  {
   "cell_type": "markdown",
   "id": "c8ef561e",
   "metadata": {},
   "source": [
    "<hr>"
   ]
  },
  {
   "cell_type": "markdown",
   "id": "e9cd2a33",
   "metadata": {},
   "source": [
    "## 3. Create a function called \"search\""
   ]
  },
  {
   "cell_type": "markdown",
   "id": "5d4e489d",
   "metadata": {},
   "source": [
    "This function should take in two string values (let's call them `a` and `b`). Both `a` and `b` should be set to all lowercase. Then search for the substring `b` in `a`. It should return the index of the found substring, or -1 if not found."
   ]
  },
  {
   "cell_type": "code",
   "execution_count": null,
   "id": "d62ecf6c",
   "metadata": {},
   "outputs": [],
   "source": [
    "def search(a: str, b: str):\n",
    "    a = a.lower()\n",
    "    b = b.lower()\n",
    "    \n",
    "    if b in a:\n",
    "        return a.index(b)\n",
    "    else:\n",
    "        return -1\n",
    "    "
   ]
  },
  {
   "cell_type": "markdown",
   "id": "3c041540",
   "metadata": {},
   "source": [
    "Here are some examples to test:"
   ]
  },
  {
   "cell_type": "code",
   "execution_count": null,
   "id": "d7ffba15",
   "metadata": {},
   "outputs": [],
   "source": [
    "search('Hello world', 'hello')"
   ]
  },
  {
   "cell_type": "code",
   "execution_count": null,
   "id": "38d01def",
   "metadata": {},
   "outputs": [],
   "source": [
    "search('Hello world', 'WoRlD')"
   ]
  },
  {
   "cell_type": "code",
   "execution_count": null,
   "id": "59644814",
   "metadata": {},
   "outputs": [],
   "source": [
    "search('Hello world', ' ')"
   ]
  },
  {
   "cell_type": "markdown",
   "id": "55f9e84b",
   "metadata": {},
   "source": [
    "<hr>"
   ]
  },
  {
   "cell_type": "markdown",
   "id": "cdc90dc8",
   "metadata": {},
   "source": [
    "## 4. Working with lists"
   ]
  },
  {
   "cell_type": "code",
   "execution_count": null,
   "id": "646d480d",
   "metadata": {},
   "outputs": [],
   "source": [
    "food = ['ramen', 'potato', 'chicken nuggets', 'pineapple']"
   ]
  },
  {
   "cell_type": "markdown",
   "id": "18084bc9",
   "metadata": {},
   "source": [
    "**4a. Print the 2nd item.**"
   ]
  },
  {
   "cell_type": "code",
   "execution_count": null,
   "id": "5cb7f780",
   "metadata": {},
   "outputs": [],
   "source": [
    "print(food[1])"
   ]
  },
  {
   "cell_type": "markdown",
   "id": "26461924",
   "metadata": {},
   "source": [
    "**4b. Change 'potato' to another food (and print the whole list to check).**"
   ]
  },
  {
   "cell_type": "code",
   "execution_count": null,
   "id": "f0033a83",
   "metadata": {},
   "outputs": [],
   "source": [
    "food[1] = 'pineapple-free-pizza'\n",
    "print(food)"
   ]
  },
  {
   "cell_type": "markdown",
   "id": "a47fe7fe",
   "metadata": {},
   "source": [
    "**4c. Add a new food item to the end of the list.**"
   ]
  },
  {
   "cell_type": "code",
   "execution_count": null,
   "id": "e4ecb664",
   "metadata": {},
   "outputs": [],
   "source": [
    "food.append('icecream')"
   ]
  },
  {
   "cell_type": "markdown",
   "id": "b319f26c",
   "metadata": {},
   "source": [
    "**4d. Use slicing to view the 3rd to last items of the list.**"
   ]
  },
  {
   "cell_type": "code",
   "execution_count": null,
   "id": "a73d9806",
   "metadata": {},
   "outputs": [],
   "source": [
    "food[-3:-2]"
   ]
  },
  {
   "cell_type": "markdown",
   "id": "e4c8341c",
   "metadata": {},
   "source": [
    "**4e. Reverse the list!**"
   ]
  },
  {
   "cell_type": "code",
   "execution_count": null,
   "id": "c8439527",
   "metadata": {},
   "outputs": [],
   "source": [
    "reversefood = []\n",
    "length = len(food)-1\n",
    "for idx in food:\n",
    "    reversefood.append(food[length])\n",
    "    length-=1\n",
    "\n",
    "print(reversefood)\n",
    "print(food)"
   ]
  },
  {
   "cell_type": "markdown",
   "id": "6b63288a",
   "metadata": {},
   "source": [
    "**4f. List comprehension**"
   ]
  },
  {
   "cell_type": "markdown",
   "id": "296313de",
   "metadata": {},
   "source": [
    "List comprehension allows you to make a new list by performing some operation on each item of an existing list. You can read more about it [here](https://www.tutorialsteacher.com/python/python-list-comprehension#:~:text=List%20comprehension%20in%20Python%20is%20an%20easy%20and,than%20processing%20a%20list%20using%20the%20for%20loop.)."
   ]
  },
  {
   "cell_type": "markdown",
   "id": "374543e9",
   "metadata": {},
   "source": [
    "Use list comprehension to create a new list of all the foods in the `food` list that contain the letter `e`."
   ]
  },
  {
   "cell_type": "code",
   "execution_count": null,
   "id": "07fddda9",
   "metadata": {},
   "outputs": [],
   "source": [
    "e_foods = []\n",
    "for ele in food:\n",
    "    if 'e' in ele:\n",
    "        e_foods.append(ele)\n"
   ]
  },
  {
   "cell_type": "code",
   "execution_count": null,
   "id": "208db88b",
   "metadata": {},
   "outputs": [],
   "source": [
    "# or\n",
    "second_e_list = [ele for ele in food if 'e' in ele]"
   ]
  },
  {
   "cell_type": "code",
   "execution_count": null,
   "id": "dd2bf8ba",
   "metadata": {},
   "outputs": [],
   "source": [
    "print(e_foods)\n",
    "print(second_e_list)"
   ]
  },
  {
   "cell_type": "markdown",
   "id": "a97602e3",
   "metadata": {},
   "source": [
    "<hr>"
   ]
  },
  {
   "cell_type": "markdown",
   "id": "3f518e22",
   "metadata": {},
   "source": [
    "## 5. Working with dictionaries"
   ]
  },
  {
   "cell_type": "markdown",
   "id": "02158b97",
   "metadata": {},
   "source": [
    "[Here](https://www.w3schools.com/python/python_dictionaries.asp) is a reference on dictionaries."
   ]
  },
  {
   "cell_type": "code",
   "execution_count": null,
   "id": "526442c3",
   "metadata": {},
   "outputs": [],
   "source": [
    "pokemon = {\n",
    "    \"name\": \"bulbasaur\",\n",
    "    \"nickname\": \"potato\",\n",
    "    \"shiny\": False\n",
    "}"
   ]
  },
  {
   "cell_type": "markdown",
   "id": "b9e4fa8d",
   "metadata": {},
   "source": [
    "**5a. Print the `name`.**"
   ]
  },
  {
   "cell_type": "code",
   "execution_count": null,
   "id": "57f591a2",
   "metadata": {},
   "outputs": [],
   "source": [
    "print(pokemon['name'])"
   ]
  },
  {
   "cell_type": "markdown",
   "id": "d6f1c4b6",
   "metadata": {},
   "source": [
    "**5b. Change the value of `nickname` from `potato` to something else.**"
   ]
  },
  {
   "cell_type": "code",
   "execution_count": null,
   "id": "93538cf5",
   "metadata": {},
   "outputs": [],
   "source": [
    "pokemon['nickname'] = 'onion'\n",
    "print(pokemon['nickname'])"
   ]
  },
  {
   "cell_type": "markdown",
   "id": "612f92a4",
   "metadata": {},
   "source": [
    "**5c. Add the key, value pair `\"type\" : \"grass\"` to the dictionary.**"
   ]
  },
  {
   "cell_type": "code",
   "execution_count": null,
   "id": "fabfde19",
   "metadata": {},
   "outputs": [],
   "source": [
    "pokemon['type'] = 'grass'\n",
    "print(pokemon)"
   ]
  },
  {
   "cell_type": "markdown",
   "id": "1cb4611d",
   "metadata": {},
   "source": [
    "<hr>"
   ]
  },
  {
   "cell_type": "markdown",
   "id": "072b9ad4",
   "metadata": {},
   "source": [
    "## 6. Loops and If Statements"
   ]
  },
  {
   "cell_type": "markdown",
   "id": "d31005ea",
   "metadata": {},
   "source": [
    "**6a. Use the `range` function to loop through `numbers` and print each one.**"
   ]
  },
  {
   "cell_type": "markdown",
   "id": "1022e683",
   "metadata": {},
   "source": [
    "Note: Should iterate between a range of 0 and the length of `numbers`"
   ]
  },
  {
   "cell_type": "code",
   "execution_count": null,
   "id": "64d49dcc",
   "metadata": {},
   "outputs": [],
   "source": [
    "numbers = [1, 2, 3, 4, 5]"
   ]
  },
  {
   "cell_type": "code",
   "execution_count": null,
   "id": "ab4a9e41",
   "metadata": {},
   "outputs": [],
   "source": [
    "for i in range(len(numbers)):\n",
    "    print(numbers[i])"
   ]
  },
  {
   "cell_type": "markdown",
   "id": "5522bb85",
   "metadata": {},
   "source": [
    "**6b. Loop through `potato_weights` and print `yum` if it is larger than `0.7`**"
   ]
  },
  {
   "cell_type": "code",
   "execution_count": null,
   "id": "9e02a78e",
   "metadata": {},
   "outputs": [],
   "source": [
    "potato_weights = [0.32, 0.53, 1.2, 0.21, 0.36, 0.72, 0.12, 0.23, 0.83, 0.91, 0.56]"
   ]
  },
  {
   "cell_type": "code",
   "execution_count": null,
   "id": "d13b269f",
   "metadata": {},
   "outputs": [],
   "source": [
    "for weight in potato_weights:\n",
    "    if weight > 0.7:\n",
    "        print('yum')"
   ]
  },
  {
   "cell_type": "markdown",
   "id": "55f168e6",
   "metadata": {},
   "source": [
    "**6c. Loop through and print each value of `potato_weights` until it is less than `0.2`.**"
   ]
  },
  {
   "cell_type": "markdown",
   "id": "f9e34755",
   "metadata": {},
   "source": [
    "There are multiple ways to do this (this is not the only possible answer)."
   ]
  },
  {
   "cell_type": "code",
   "execution_count": null,
   "id": "d98be024",
   "metadata": {},
   "outputs": [],
   "source": [
    "for weight in potato_weights:\n",
    "    if weight > 0.1:\n",
    "        print(weight)"
   ]
  },
  {
   "cell_type": "markdown",
   "id": "0451b758",
   "metadata": {},
   "source": [
    "<hr>"
   ]
  },
  {
   "cell_type": "markdown",
   "id": "901c4c42",
   "metadata": {},
   "source": [
    "## 7. Poisonous or edible?"
   ]
  },
  {
   "cell_type": "markdown",
   "id": "2c2a8e7e",
   "metadata": {},
   "source": [
    "Make a function that returns whether or not a given mushroom is edible or poisonous. Brainstorm some rules (e.g., if a mushroom is purple, then it is poisonous) with your group based on the mushroom information below. The `poisonous` attribute is given to help you come up with rules, but don't use this in the function itself.  \n",
    "\n",
    "\n",
    "Please note that this is all completely fake data. :)  "
   ]
  },
  {
   "cell_type": "markdown",
   "id": "6733e2c0",
   "metadata": {},
   "source": [
    "<img src=\"\n",
    "https://cdn.shopify.com/s/files/1/0043/8439/1239/products/Cortina-KeychainPlush_1024x1024@2x.jpg?v=1630692639\" alt=\"drawing\" width=\"200\"/>"
   ]
  },
  {
   "cell_type": "code",
   "execution_count": null,
   "id": "d4d8e163",
   "metadata": {},
   "outputs": [],
   "source": [
    "mushrooms = {\n",
    "    0: {\"cap_diameter\": 15, \"cap_color\": \"purple\", \"stem_width\": 2, \"has_skull\":True, 'poisonous':True},\n",
    "    1: {\"cap_diameter\": 25, \"cap_color\": \"orange\", \"stem_width\": 5, \"has_skull\":True, 'poisonous':True},\n",
    "    2: {\"cap_diameter\": 3, \"cap_color\": \"green\", \"stem_width\": 6, \"has_skull\":False, 'poisonous':False},\n",
    "    3: {\"cap_diameter\": 8, \"cap_color\": \"green\", \"stem_width\": 3, \"has_skull\":False, 'poisonous':False},\n",
    "    4: {\"cap_diameter\": 55, \"cap_color\": \"green\", \"stem_width\": 35, \"has_skull\":False, 'poisonous':True},\n",
    "    5: {\"cap_diameter\": 7, \"cap_color\": \"purple\", \"stem_width\": 6, \"has_skull\":False, 'poisonous':True},\n",
    "    6: {\"cap_diameter\": 3, \"cap_color\": \"purple\", \"stem_width\": 8, \"has_skull\":True, 'poisonous':True},\n",
    "    7: {\"cap_diameter\": 35, \"cap_color\": \"green\", \"stem_width\": 4, \"has_skull\":False, 'poisonous':True},\n",
    "}"
   ]
  },
  {
   "cell_type": "markdown",
   "id": "1c46d251",
   "metadata": {},
   "source": [
    "Example: If we enter `mushrooms[0]` into our function, it should return that it is poisonous."
   ]
  },
  {
   "cell_type": "code",
   "execution_count": null,
   "id": "af4ae986",
   "metadata": {},
   "outputs": [],
   "source": [
    "mushrooms[0]"
   ]
  },
  {
   "cell_type": "code",
   "execution_count": null,
   "id": "e6de41ee",
   "metadata": {},
   "outputs": [],
   "source": [
    "### Determine if poisonous\n",
    "# skull = true\n",
    "# cap diameter > 30\n",
    "# if cap diameter !> 30, check if stem_width > 30\n",
    "# purple and cap_diameter > stem_width"
   ]
  },
  {
   "cell_type": "code",
   "execution_count": null,
   "id": "0ecdc5e5",
   "metadata": {},
   "outputs": [],
   "source": [
    "def is_poisonous(shroom):\n",
    "        "
   ]
  },
  {
   "cell_type": "code",
   "execution_count": null,
   "id": "039806b0",
   "metadata": {},
   "outputs": [],
   "source": [
    "for shroom in mushrooms.values():\n",
    "    print(is_poisonous(shroom))"
   ]
  },
  {
   "cell_type": "code",
   "execution_count": null,
   "id": "5e9023c9",
   "metadata": {},
   "outputs": [],
   "source": []
  },
  {
   "cell_type": "code",
   "execution_count": null,
   "id": "87cd6a6c",
   "metadata": {},
   "outputs": [],
   "source": []
  }
 ],
 "metadata": {
  "kernelspec": {
   "display_name": "Python 3 (ipykernel)",
   "language": "python",
   "name": "python3"
  },
  "language_info": {
   "codemirror_mode": {
    "name": "ipython",
    "version": 3
   },
   "file_extension": ".py",
   "mimetype": "text/x-python",
   "name": "python",
   "nbconvert_exporter": "python",
   "pygments_lexer": "ipython3",
   "version": "3.9.13"
  }
 },
 "nbformat": 4,
 "nbformat_minor": 5
}
