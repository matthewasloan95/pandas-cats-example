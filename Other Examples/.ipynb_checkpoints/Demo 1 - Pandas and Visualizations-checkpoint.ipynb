{
 "cells": [
  {
   "cell_type": "markdown",
   "id": "2122b99b",
   "metadata": {},
   "source": [
    "# Demo 1: Pandas and Visualizations"
   ]
  },
  {
   "cell_type": "markdown",
   "id": "3cc901ac",
   "metadata": {},
   "source": [
    "## Install and Load Libraries"
   ]
  },
  {
   "cell_type": "markdown",
   "id": "4f0c7e38",
   "metadata": {},
   "source": [
    "We will need to install the pandas package. Can do it within the Anaconda navigator, through the command prompt/terminal, or from within jupyter notebook itself:"
   ]
  },
  {
   "cell_type": "code",
   "execution_count": null,
   "id": "b9f175f7",
   "metadata": {},
   "outputs": [],
   "source": [
    "# !pip install pandas"
   ]
  },
  {
   "cell_type": "markdown",
   "id": "b810fa68",
   "metadata": {},
   "source": [
    "Now let's import it."
   ]
  },
  {
   "cell_type": "code",
   "execution_count": null,
   "id": "603b5174",
   "metadata": {},
   "outputs": [],
   "source": [
    "import pandas as pd"
   ]
  },
  {
   "cell_type": "markdown",
   "id": "55304b57",
   "metadata": {},
   "source": [
    "## Series vs DataFrame"
   ]
  },
  {
   "cell_type": "markdown",
   "id": "0428c347",
   "metadata": {},
   "source": [
    "Before jumping into pandas, let's look at what a basic Python series looks like. It is one-dimensional:"
   ]
  },
  {
   "cell_type": "code",
   "execution_count": null,
   "id": "d144049b",
   "metadata": {},
   "outputs": [],
   "source": [
    "series = pd.Series(['dog', 'cat', 'frog'])"
   ]
  },
  {
   "cell_type": "code",
   "execution_count": null,
   "id": "773c74d3",
   "metadata": {},
   "outputs": [],
   "source": [
    "series"
   ]
  },
  {
   "cell_type": "code",
   "execution_count": null,
   "id": "e54b4c02",
   "metadata": {},
   "outputs": [],
   "source": [
    "colors = pd.Series(['blue','black','green'])\n",
    "colors"
   ]
  },
  {
   "cell_type": "markdown",
   "id": "80e7fbc3",
   "metadata": {},
   "source": [
    "We have an index (0, 1, 2) and the elements (dog, cat, frog).  \n",
    "Now if we make a DataFrame, it is two-dimensional:"
   ]
  },
  {
   "cell_type": "code",
   "execution_count": null,
   "id": "8f693235",
   "metadata": {},
   "outputs": [],
   "source": [
    "animal_df = pd.DataFrame({\"Animal\": series, \"Colors\": colors})"
   ]
  },
  {
   "cell_type": "code",
   "execution_count": null,
   "id": "14f3f745",
   "metadata": {},
   "outputs": [],
   "source": [
    "animal_df"
   ]
  },
  {
   "cell_type": "markdown",
   "id": "5faa4ef7",
   "metadata": {},
   "source": [
    "Here, we see more of a table format. This is what most of the data we work with will look like (but larger!)."
   ]
  },
  {
   "cell_type": "markdown",
   "id": "e1c55107",
   "metadata": {},
   "source": [
    "## Reading in our data!"
   ]
  },
  {
   "cell_type": "markdown",
   "id": "0a174747",
   "metadata": {},
   "source": [
    "If we are ever unsure about what a method is for or how to use it, jupyter notebook allows us to pull up the documentation by adding a '?' at the end of it. Try looking at the documentation for `pd.read_csv`."
   ]
  },
  {
   "cell_type": "markdown",
   "id": "c51f3678",
   "metadata": {},
   "source": [
    "This data is obtained from https://www.kaggle.com/datasets/jgiigii/uscrimesdataset"
   ]
  },
  {
   "cell_type": "code",
   "execution_count": null,
   "id": "8d2534f2",
   "metadata": {
    "tags": []
   },
   "outputs": [],
   "source": [
    "# df = pd.read_csv?"
   ]
  },
  {
   "cell_type": "code",
   "execution_count": null,
   "id": "fe4d42f5-7a9e-4295-ac7a-aeff115a6d74",
   "metadata": {},
   "outputs": [],
   "source": [
    "df = pd.read_csv"
   ]
  },
  {
   "cell_type": "code",
   "execution_count": null,
   "id": "548576de-7e69-4c12-926f-7dd65eedf6aa",
   "metadata": {},
   "outputs": [],
   "source": [
    "df = pd.read_csv"
   ]
  },
  {
   "cell_type": "code",
   "execution_count": null,
   "id": "2feb27a8-729a-4f1b-87c8-ad241136830a",
   "metadata": {},
   "outputs": [],
   "source": [
    "df = pd.read_csv"
   ]
  },
  {
   "cell_type": "code",
   "execution_count": null,
   "id": "b9bb78ee",
   "metadata": {},
   "outputs": [],
   "source": [
    "df = pd.read_csv(\"Crime.csv\")"
   ]
  },
  {
   "cell_type": "markdown",
   "id": "135af370",
   "metadata": {},
   "source": [
    "It is also possible to read in a csv from a URL rather than a local file. For example:"
   ]
  },
  {
   "cell_type": "code",
   "execution_count": null,
   "id": "9b77d8ed",
   "metadata": {},
   "outputs": [],
   "source": [
    "pd.read_csv(\"https://raw.githubusercontent.com/GoogleTrends/data/master/20170508_HealthCareSearchesUS.csv\")"
   ]
  },
  {
   "cell_type": "markdown",
   "id": "c99fbc8e",
   "metadata": {},
   "source": [
    "But for now, we will use our crime dataset."
   ]
  },
  {
   "cell_type": "markdown",
   "id": "b28d1592",
   "metadata": {},
   "source": [
    "## Describe our data"
   ]
  },
  {
   "cell_type": "markdown",
   "id": "c0f59750",
   "metadata": {},
   "source": [
    "This will get us a list of our columns (aka our features)."
   ]
  },
  {
   "cell_type": "code",
   "execution_count": null,
   "id": "c1ec063a",
   "metadata": {},
   "outputs": [],
   "source": [
    "df.columns"
   ]
  },
  {
   "cell_type": "markdown",
   "id": "cedbcc7e",
   "metadata": {},
   "source": [
    "If we want to see our features *and* their data types, we can use the following:"
   ]
  },
  {
   "cell_type": "code",
   "execution_count": null,
   "id": "8c494800",
   "metadata": {},
   "outputs": [],
   "source": [
    "df.dtypes"
   ]
  },
  {
   "cell_type": "markdown",
   "id": "73cadd42",
   "metadata": {},
   "source": [
    "This gives information in the index values."
   ]
  },
  {
   "cell_type": "code",
   "execution_count": null,
   "id": "4a88751c",
   "metadata": {},
   "outputs": [],
   "source": [
    "df.index"
   ]
  },
  {
   "cell_type": "markdown",
   "id": "9ae64d64",
   "metadata": {},
   "source": [
    "Information on the 'shape' of our data. The first value is the number of rows (how many items we have). The second value is the number of columns (how many features we have)."
   ]
  },
  {
   "cell_type": "code",
   "execution_count": null,
   "id": "ed1abfb5",
   "metadata": {},
   "outputs": [],
   "source": [
    "df.shape"
   ]
  },
  {
   "cell_type": "markdown",
   "id": "422e4f03",
   "metadata": {},
   "source": [
    "The following gives a quick overview of our data. The count, mean, standard deviation, etc... of each column. Notice how we only see information on 7 columns when we have 30 total. This can only show information on the numerical columns."
   ]
  },
  {
   "cell_type": "code",
   "execution_count": null,
   "id": "db4b5e86",
   "metadata": {},
   "outputs": [],
   "source": [
    "df.describe()"
   ]
  },
  {
   "cell_type": "markdown",
   "id": "6fc9d140",
   "metadata": {},
   "source": [
    "## How to view and select data"
   ]
  },
  {
   "cell_type": "markdown",
   "id": "c42570c9",
   "metadata": {},
   "source": [
    "To start, the below allows us to quickly view the first five entries."
   ]
  },
  {
   "cell_type": "code",
   "execution_count": null,
   "id": "71fcb810",
   "metadata": {},
   "outputs": [],
   "source": [
    "df.head()"
   ]
  },
  {
   "cell_type": "markdown",
   "id": "aab69f8c",
   "metadata": {},
   "source": [
    "Let's say we only want to view three:"
   ]
  },
  {
   "cell_type": "code",
   "execution_count": null,
   "id": "50a0c72e",
   "metadata": {},
   "outputs": [],
   "source": [
    "df.head(3)"
   ]
  },
  {
   "cell_type": "markdown",
   "id": "d2ada335",
   "metadata": {},
   "source": [
    "Or we only want to view the last five:"
   ]
  },
  {
   "cell_type": "code",
   "execution_count": null,
   "id": "46752bab",
   "metadata": {},
   "outputs": [],
   "source": [
    "df.tail()"
   ]
  },
  {
   "cell_type": "markdown",
   "id": "f4fe7b94",
   "metadata": {},
   "source": [
    "### The difference between `.loc` and `.iloc`"
   ]
  },
  {
   "cell_type": "markdown",
   "id": "ce4484dd",
   "metadata": {},
   "source": [
    "Let's say for some reason, our indices are not in order from zero onwards, but are more scattered."
   ]
  },
  {
   "cell_type": "code",
   "execution_count": null,
   "id": "348e8456",
   "metadata": {},
   "outputs": [],
   "source": [
    "animals = pd.Series(['cat', 'dog', 'bird', 'frog'], index = [0, 3, 9, 8])"
   ]
  },
  {
   "cell_type": "markdown",
   "id": "29e64ca0",
   "metadata": {},
   "source": [
    "`.loc` will get us the item at **index of 3**"
   ]
  },
  {
   "cell_type": "code",
   "execution_count": null,
   "id": "b61f6370",
   "metadata": {},
   "outputs": [],
   "source": [
    "animals.loc[3]"
   ]
  },
  {
   "cell_type": "markdown",
   "id": "b50969e4",
   "metadata": {},
   "source": [
    "`.iloc` will get us the item at the **position of 3** regardless of index values."
   ]
  },
  {
   "cell_type": "code",
   "execution_count": null,
   "id": "0e8b7454",
   "metadata": {},
   "outputs": [],
   "source": [
    "animals.iloc[3]"
   ]
  },
  {
   "cell_type": "markdown",
   "id": "0dcfd3fc",
   "metadata": {},
   "source": [
    "On selecting multiple items (this is very similar to the practice you all got with lists):"
   ]
  },
  {
   "cell_type": "code",
   "execution_count": null,
   "id": "afe85117",
   "metadata": {},
   "outputs": [],
   "source": [
    "animals.iloc[1:]"
   ]
  },
  {
   "cell_type": "markdown",
   "id": "f3d8b6e0",
   "metadata": {},
   "source": [
    "What happens if we try to use `animals.loc[1:]`?"
   ]
  },
  {
   "cell_type": "code",
   "execution_count": null,
   "id": "9e5f9cfe",
   "metadata": {},
   "outputs": [],
   "source": [
    "df.loc[2:5]"
   ]
  },
  {
   "cell_type": "markdown",
   "id": "29c551e1",
   "metadata": {},
   "source": [
    "### Viewing a specific column"
   ]
  },
  {
   "cell_type": "code",
   "execution_count": null,
   "id": "6f8df947",
   "metadata": {},
   "outputs": [],
   "source": [
    "df['City']"
   ]
  },
  {
   "cell_type": "markdown",
   "id": "1027d03a",
   "metadata": {},
   "source": [
    "### How do we filter our data?"
   ]
  },
  {
   "cell_type": "code",
   "execution_count": null,
   "id": "284f3170",
   "metadata": {},
   "outputs": [],
   "source": [
    "df.columns"
   ]
  },
  {
   "cell_type": "code",
   "execution_count": null,
   "id": "0ce0764d",
   "metadata": {},
   "outputs": [],
   "source": [
    "df['Crime Name1'].unique()"
   ]
  },
  {
   "cell_type": "code",
   "execution_count": null,
   "id": "c239c7ea",
   "metadata": {},
   "outputs": [],
   "source": [
    "df_crimes = df[df['Crime Name1'] != 'Not a Crime']"
   ]
  },
  {
   "cell_type": "code",
   "execution_count": null,
   "id": "c90aba1c",
   "metadata": {
    "scrolled": true
   },
   "outputs": [],
   "source": [
    "df_crimes"
   ]
  },
  {
   "cell_type": "markdown",
   "id": "68b148ca",
   "metadata": {},
   "source": [
    "What if we want to see the counts per `Crime Name1`? "
   ]
  },
  {
   "cell_type": "code",
   "execution_count": null,
   "id": "1537d8cc",
   "metadata": {},
   "outputs": [],
   "source": [
    "df_crimes.groupby(['Crime Name1']).size()"
   ]
  },
  {
   "cell_type": "raw",
   "id": "be00f839-2aad-410d-8b6f-fd73240119a9",
   "metadata": {},
   "source": [
    "df.groupby(['Crime Name1']).size()"
   ]
  },
  {
   "cell_type": "markdown",
   "id": "209891af",
   "metadata": {},
   "source": [
    "## Manipulating data"
   ]
  },
  {
   "cell_type": "markdown",
   "id": "dfa4ce24",
   "metadata": {},
   "source": [
    "#### Editing string values"
   ]
  },
  {
   "cell_type": "markdown",
   "id": "8d83c7ba",
   "metadata": {},
   "source": [
    "Let's say we need to standardize our data and have everything in `Crime Name1` be in lowercase?"
   ]
  },
  {
   "cell_type": "code",
   "execution_count": null,
   "id": "6b99c4c3",
   "metadata": {},
   "outputs": [],
   "source": [
    "df['Crime Name1'] = df['Crime Name1'].str.lower()"
   ]
  },
  {
   "cell_type": "code",
   "execution_count": null,
   "id": "b2a283dc",
   "metadata": {},
   "outputs": [],
   "source": [
    "df.head()"
   ]
  },
  {
   "cell_type": "markdown",
   "id": "7d45dbbf",
   "metadata": {},
   "source": [
    "#### Dealing with null values"
   ]
  },
  {
   "cell_type": "markdown",
   "id": "2278b8cd",
   "metadata": {},
   "source": [
    "First of all, let's take a look at the different columns that have null values. If an item is missing a particular column value, what could that mean? e.g., is it possible for a particular zip code to not be recorded properly? Do the end date times mean it is simply missing and someone forgot to record it, or maybe that information is not known to begin with?"
   ]
  },
  {
   "cell_type": "code",
   "execution_count": null,
   "id": "f7dbbd7b",
   "metadata": {},
   "outputs": [],
   "source": [
    "df.isnull().sum()"
   ]
  },
  {
   "cell_type": "markdown",
   "id": "0830cae4",
   "metadata": {},
   "source": [
    "How we end up dealing with nulls depends on the context of the data and the problem/questions you are looking to solve. We could simply drop all null rows in the dataset using `df.dropna()`. But what if one column has many many nulls, but we aren't really planning on using that column anyways? It may be better to drop that individual column instead, for example: `df.drop('End_Date_Time', axis=1)`. Note that `axis=0` specifies you are trying to drop rows (it is this by default), and `axis=1` specifies that you are trying to drop column(s). If you ever forget which is which, try looking at the docuentation using: `df.drop?`"
   ]
  },
  {
   "cell_type": "markdown",
   "id": "19493891",
   "metadata": {},
   "source": [
    "Notice how this drops literally everything."
   ]
  },
  {
   "cell_type": "code",
   "execution_count": null,
   "id": "1ae7f0df",
   "metadata": {},
   "outputs": [],
   "source": [
    "df.dropna()"
   ]
  },
  {
   "cell_type": "markdown",
   "id": "5909303d",
   "metadata": {},
   "source": [
    "If we run `df` again, we see that things weren't actually dropped. If we wanted to drop values *and* update the df, we would need to use either `df = df.dropna()` or `df.dropna('inplace=True')`"
   ]
  },
  {
   "cell_type": "code",
   "execution_count": null,
   "id": "8f2a6cfa",
   "metadata": {},
   "outputs": [],
   "source": [
    "df.drop('End_Date_Time', axis = 1, inplace=True)"
   ]
  },
  {
   "cell_type": "code",
   "execution_count": null,
   "id": "b2ea055f",
   "metadata": {},
   "outputs": [],
   "source": [
    "df"
   ]
  },
  {
   "cell_type": "markdown",
   "id": "570bb14a",
   "metadata": {},
   "source": [
    "## Visualizing with Matplotlib!"
   ]
  },
  {
   "cell_type": "markdown",
   "id": "81b85ac2",
   "metadata": {},
   "source": [
    "With will explore two libraries for making visualizations in python. One is Matplotlib and the other is Seaborn. To start, let's install and import matplotlib:"
   ]
  },
  {
   "cell_type": "code",
   "execution_count": null,
   "id": "08de49fa",
   "metadata": {},
   "outputs": [],
   "source": [
    "!pip install matplotlib"
   ]
  },
  {
   "cell_type": "code",
   "execution_count": null,
   "id": "08916f43",
   "metadata": {},
   "outputs": [],
   "source": [
    "import matplotlib.pyplot as plt"
   ]
  },
  {
   "cell_type": "markdown",
   "id": "bb392143",
   "metadata": {},
   "source": [
    "Take a look at the documentation first."
   ]
  },
  {
   "cell_type": "code",
   "execution_count": null,
   "id": "cb3caffc",
   "metadata": {
    "tags": []
   },
   "outputs": [],
   "source": [
    "df.plot?"
   ]
  },
  {
   "cell_type": "markdown",
   "id": "7c56f507",
   "metadata": {},
   "source": [
    "#### Crime counts"
   ]
  },
  {
   "cell_type": "markdown",
   "id": "cd8b5452",
   "metadata": {},
   "source": [
    "Remember how we used `groupby` earlier?"
   ]
  },
  {
   "cell_type": "code",
   "execution_count": null,
   "id": "53be3cb2",
   "metadata": {},
   "outputs": [],
   "source": [
    "df.groupby('Crime Name1').size()"
   ]
  },
  {
   "cell_type": "code",
   "execution_count": null,
   "id": "0237f3d6",
   "metadata": {},
   "outputs": [],
   "source": [
    "df.groupby('Crime Name1').size().plot(kind='bar')"
   ]
  },
  {
   "cell_type": "markdown",
   "id": "6e3f0aca",
   "metadata": {},
   "source": [
    "Now perhaps we want to dig deeper into crime against property. First, let's filter out just those:"
   ]
  },
  {
   "cell_type": "code",
   "execution_count": null,
   "id": "cc4e7144",
   "metadata": {},
   "outputs": [],
   "source": [
    "df_property_crimes = df[df['Crime Name1'] == 'Crime Against Property']"
   ]
  },
  {
   "cell_type": "markdown",
   "id": "ab384d2d",
   "metadata": {},
   "source": [
    "Now we can group by `Crime Name2` and plot that!"
   ]
  },
  {
   "cell_type": "code",
   "execution_count": null,
   "id": "27aad0ab",
   "metadata": {},
   "outputs": [],
   "source": [
    "df_property_crimes.groupby('Crime Name2').size().plot(kind='bar')\n",
    "plt.xlabel('Crime Names')"
   ]
  },
  {
   "cell_type": "markdown",
   "id": "ff63fac6",
   "metadata": {},
   "source": [
    "This is a bit small, so let's increase the size."
   ]
  },
  {
   "cell_type": "code",
   "execution_count": null,
   "id": "2fc5604e",
   "metadata": {},
   "outputs": [],
   "source": [
    "plt.rcParams['figure.figsize'] = (12,6)"
   ]
  },
  {
   "cell_type": "code",
   "execution_count": null,
   "id": "c67b8b21",
   "metadata": {},
   "outputs": [],
   "source": [
    "df_property_crimes.groupby('Crime Name2').size().plot(kind='bar')"
   ]
  },
  {
   "cell_type": "markdown",
   "id": "9f9caef3",
   "metadata": {},
   "source": [
    "This is just *one small example* of things Matplotlib can do. It will be important to look through documentation, experiment, and ask questions! It is OK (and encouraged) to look things up (just make sure you cite your resources)!"
   ]
  },
  {
   "cell_type": "markdown",
   "id": "e32df5ee",
   "metadata": {},
   "source": [
    "## Some visualizations with Seaborn now!  \n",
    "More info here: https://seaborn.pydata.org/  \n",
    "They have a gallery and various tutorials."
   ]
  },
  {
   "cell_type": "markdown",
   "id": "d09d85bc",
   "metadata": {},
   "source": [
    "Once again, let's import everything first."
   ]
  },
  {
   "cell_type": "code",
   "execution_count": null,
   "id": "f3d58fe0",
   "metadata": {},
   "outputs": [],
   "source": [
    "!pip install seaborn"
   ]
  },
  {
   "cell_type": "code",
   "execution_count": null,
   "id": "8805bc18",
   "metadata": {},
   "outputs": [],
   "source": [
    "import seaborn as sns"
   ]
  },
  {
   "cell_type": "markdown",
   "id": "bcbb8602",
   "metadata": {},
   "source": [
    "#### We want to explore the crime rate across different times."
   ]
  },
  {
   "cell_type": "markdown",
   "id": "2c51862e",
   "metadata": {},
   "source": [
    "Let's make a new column for the date, and then for month, day, and hour."
   ]
  },
  {
   "cell_type": "code",
   "execution_count": null,
   "id": "67417d0d",
   "metadata": {},
   "outputs": [],
   "source": [
    "df['date'] = pd.to_datetime(df['Dispatch Date / Time'])"
   ]
  },
  {
   "cell_type": "markdown",
   "id": "55674ec3",
   "metadata": {},
   "source": [
    "The above will make it easier to prase month, day, and hour now. Also, here is a reference [link](https://www.kaggle.com/code/sady36/visualization-uscrimesdataset). (I admit, I was about to do this in a much slower and painful way before seeing this notebook. So again, don't be afraid to look things up and use your resources!)   \n",
    "By the way, all of this below counts as pre-processing. We are making new columns based on the original `Dispatch Date / Time` one!"
   ]
  },
  {
   "cell_type": "code",
   "execution_count": null,
   "id": "2c2d0430",
   "metadata": {},
   "outputs": [],
   "source": [
    "df[\"month\"] = df[\"date\"].apply(lambda x: x.month_name())\n",
    "df[\"day_name\"] = df[\"date\"].apply(lambda x: x.day_name())\n",
    "df[\"hour\"] = df[\"date\"].apply(lambda x: x.hour)"
   ]
  },
  {
   "cell_type": "markdown",
   "id": "7852606d",
   "metadata": {},
   "source": [
    "Look how nice this looks now!"
   ]
  },
  {
   "cell_type": "code",
   "execution_count": null,
   "id": "1ac77a35",
   "metadata": {},
   "outputs": [],
   "source": [
    "df.head()"
   ]
  },
  {
   "cell_type": "markdown",
   "id": "4cf351b4",
   "metadata": {},
   "source": [
    "First, let's again filter out anything that is in the dataset and \"not a crime.\""
   ]
  },
  {
   "cell_type": "code",
   "execution_count": null,
   "id": "320f1f33",
   "metadata": {},
   "outputs": [],
   "source": [
    "df_filtered = df[df['Crime Name1'] != 'not a crime']"
   ]
  },
  {
   "cell_type": "markdown",
   "id": "a35086e7",
   "metadata": {},
   "source": [
    "Now, let's visualize the counts of crimes per hour."
   ]
  },
  {
   "cell_type": "code",
   "execution_count": null,
   "id": "3d5fc8cb",
   "metadata": {},
   "outputs": [],
   "source": [
    "sns.countplot(x='hour', data=df_filtered)"
   ]
  },
  {
   "cell_type": "code",
   "execution_count": null,
   "id": "f88d88a6",
   "metadata": {},
   "outputs": [],
   "source": [
    "df_filtered['Crime Name1'].unique()"
   ]
  },
  {
   "cell_type": "markdown",
   "id": "08988522",
   "metadata": {},
   "source": [
    "Perhaps we want to only see the types of crime against property per hour."
   ]
  },
  {
   "cell_type": "code",
   "execution_count": null,
   "id": "c77fbbf6",
   "metadata": {},
   "outputs": [],
   "source": [
    "sns.countplot(x='hour', data=df[df['Crime Name1'] == 'Crime Against Property'])"
   ]
  },
  {
   "cell_type": "markdown",
   "id": "ffefe7ca",
   "metadata": {},
   "source": [
    "We don't see too much of a difference..."
   ]
  },
  {
   "cell_type": "code",
   "execution_count": null,
   "id": "6b9038ba",
   "metadata": {},
   "outputs": [],
   "source": [
    "sns.countplot(x='hour', data=df[df['Crime Name1'] == 'Crime Against Society'])"
   ]
  },
  {
   "cell_type": "markdown",
   "id": "cf97eaf6",
   "metadata": {},
   "source": [
    "While crimes against society are less than against property, we see a change in the distribution!"
   ]
  },
  {
   "cell_type": "markdown",
   "id": "9f778e81",
   "metadata": {},
   "source": [
    "Now let's do crimes against people and give it a nice title so readers know what is happening here! A quick resource on how to add a title [here](https://www.tutorialspoint.com/how-to-add-a-title-on-seaborn-lmplot#)."
   ]
  },
  {
   "cell_type": "code",
   "execution_count": null,
   "id": "cac2114a",
   "metadata": {},
   "outputs": [],
   "source": [
    "plot = sns.countplot(x='hour', data=df[df['Crime Name1'] == 'Crime Against Person'])\n",
    "ax = plt.gca()\n",
    "ax.set_title(\"Counts of Crimes Against People per Hour of Day\")\n",
    "plt.show()"
   ]
  },
  {
   "cell_type": "markdown",
   "id": "2689f703",
   "metadata": {},
   "source": [
    "Notice how intentional we were about our question and the visualization we chose to make for it. And then it is possible for other questions to come up throughout that exploration."
   ]
  },
  {
   "cell_type": "code",
   "execution_count": null,
   "id": "449505f1",
   "metadata": {},
   "outputs": [],
   "source": [
    "df['Crime Name2'].unique()"
   ]
  },
  {
   "cell_type": "code",
   "execution_count": null,
   "id": "063a3cee",
   "metadata": {},
   "outputs": [],
   "source": [
    "df.groupby('Crime Name2').size().plot(kind='bar')"
   ]
  },
  {
   "cell_type": "code",
   "execution_count": null,
   "id": "a73e507e",
   "metadata": {},
   "outputs": [],
   "source": [
    "plot = sns.countplot(x='hour', data=df[df['Crime Name2'] == 'Robbery'])"
   ]
  },
  {
   "cell_type": "code",
   "execution_count": null,
   "id": "1e852754",
   "metadata": {},
   "outputs": [],
   "source": []
  },
  {
   "cell_type": "code",
   "execution_count": null,
   "id": "0a5461e5",
   "metadata": {},
   "outputs": [],
   "source": []
  },
  {
   "cell_type": "code",
   "execution_count": null,
   "id": "d8dc2ed5",
   "metadata": {},
   "outputs": [],
   "source": []
  },
  {
   "cell_type": "code",
   "execution_count": null,
   "id": "a438523c",
   "metadata": {},
   "outputs": [],
   "source": []
  },
  {
   "cell_type": "code",
   "execution_count": null,
   "id": "e21cb256",
   "metadata": {},
   "outputs": [],
   "source": []
  }
 ],
 "metadata": {
  "kernelspec": {
   "display_name": "Python 3 (ipykernel)",
   "language": "python",
   "name": "python3"
  },
  "language_info": {
   "codemirror_mode": {
    "name": "ipython",
    "version": 3
   },
   "file_extension": ".py",
   "mimetype": "text/x-python",
   "name": "python",
   "nbconvert_exporter": "python",
   "pygments_lexer": "ipython3",
   "version": "3.9.13"
  }
 },
 "nbformat": 4,
 "nbformat_minor": 5
}
