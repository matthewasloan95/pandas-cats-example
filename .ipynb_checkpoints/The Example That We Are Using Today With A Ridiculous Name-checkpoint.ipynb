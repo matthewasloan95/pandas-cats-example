{
 "cells": [
  {
   "cell_type": "markdown",
   "id": "a54943d2-0264-470b-907c-ca24cd8783a8",
   "metadata": {},
   "source": [
    "# Pandas Cats Example\n",
    "## Overview of data analysis using Pandas\n",
    "\n",
    "### Prereqs - python, jupyter notebook/lab\n",
    "### And the jupyter extension if using VSCode"
   ]
  },
  {
   "cell_type": "markdown",
   "id": "2ecc9de6-ac01-4023-b68b-423d0986915a",
   "metadata": {},
   "source": [
    "First we import pandas\n",
    "\n",
    "Note, if we want to use the read_excel method, we need to install openpyxl. We can do this from anaconda or pip. We can run pip commands (termiinal commands more specifically, I believe this is a linux kernel) straight from our notebook.\n",
    "\n",
    "Also I have left anaconda, markdown, and pandas cheat sheets in this repo"
   ]
  },
  {
   "cell_type": "code",
   "execution_count": null,
   "id": "db8fe457-eccf-41fc-8d3f-6c1f92a1c662",
   "metadata": {},
   "outputs": [],
   "source": [
    "# !pip install openpyxl \n",
    "# or \n",
    "# !wget https://i.imgflip.com/2dm3si.jpg"
   ]
  },
  {
   "cell_type": "markdown",
   "id": "cba4dc60-6bad-4dce-8e28-ec483c39f50b",
   "metadata": {},
   "source": [
    "#### Some quick background information - Pandas stores structured data into dataframes. \n",
    "* A single dimension would be a \"Series\" (think an array with special properties like a header)\n",
    "* n dimensions are stored as \"DataFrames\" and each individual column is a Series"
   ]
  },
  {
   "cell_type": "code",
   "execution_count": null,
   "id": "d0474f3e-485a-4b93-823e-b699b3d2b395",
   "metadata": {},
   "outputs": [],
   "source": [
    "# the python library we're using\n",
    "import pandas as pd"
   ]
  },
  {
   "cell_type": "code",
   "execution_count": null,
   "id": "4065b45c-1981-4235-89b2-4a1594e24b31",
   "metadata": {},
   "outputs": [],
   "source": [
    "# let's load our dataset\n",
    "# this will be our 'dataframe'\n",
    "CATS_df = pd.read_excel('data/Copy of Test Log #2.xlsx')"
   ]
  },
  {
   "cell_type": "markdown",
   "id": "506e6691-0d74-4b49-b152-cd314a64b386",
   "metadata": {},
   "source": [
    "Some EDA: Exploratory Data Analysis"
   ]
  },
  {
   "cell_type": "code",
   "execution_count": null,
   "id": "1f192140-eb0a-4305-9e8a-875124785208",
   "metadata": {},
   "outputs": [],
   "source": [
    "CATS_df.shape"
   ]
  },
  {
   "cell_type": "markdown",
   "id": "f2ab9a02-6d76-4146-a3cc-17dcedef5bf7",
   "metadata": {},
   "source": [
    "6531 rows/entries and 17 columns/features"
   ]
  },
  {
   "cell_type": "code",
   "execution_count": null,
   "id": "08fefad2-283e-4eb9-bf11-6eb352cd8957",
   "metadata": {},
   "outputs": [],
   "source": [
    "CATS_df.head()"
   ]
  },
  {
   "cell_type": "code",
   "execution_count": null,
   "id": "c8b3950b-0aa8-48c9-8ebe-a1301a2c72f2",
   "metadata": {},
   "outputs": [],
   "source": [
    "# we can get some general statistics about our numerical columns\n",
    "CATS_df.describe()"
   ]
  },
  {
   "cell_type": "code",
   "execution_count": null,
   "id": "07c748c1-7e11-4857-b9aa-3646cc2e62e6",
   "metadata": {},
   "outputs": [],
   "source": [
    "# we can list all of our columns\n",
    "CATS_df.columns"
   ]
  },
  {
   "cell_type": "code",
   "execution_count": null,
   "id": "4ec6895b-d843-4ff7-b393-4293d88e6436",
   "metadata": {},
   "outputs": [],
   "source": [
    "# btw python for loops > all other for loops\n",
    "# nobody needs 'for (String column: CATS_df.columns) when you could\n",
    "\n",
    "for col in CATS_df.columns:\n",
    "    print(col) # this is an f string (format string?) put an f in front of your string. Also python accepts both single quotes and double quotes for strings"
   ]
  },
  {
   "cell_type": "code",
   "execution_count": null,
   "id": "fe256e69-cf26-4dbd-8817-884601efdf12",
   "metadata": {},
   "outputs": [],
   "source": [
    "CATS_df.dtypes"
   ]
  },
  {
   "cell_type": "markdown",
   "id": "f83c2814-196b-4aee-9487-155390434670",
   "metadata": {},
   "source": [
    "We see that pandas supports datetime objects as well.\n",
    "\n",
    "We can access individual columns in our data"
   ]
  },
  {
   "cell_type": "code",
   "execution_count": null,
   "id": "78f75c0c-b50f-4cb1-bff0-bbdd3458af95",
   "metadata": {},
   "outputs": [],
   "source": [
    "CATS_df['Device']"
   ]
  },
  {
   "cell_type": "code",
   "execution_count": null,
   "id": "bd168442-8148-4365-ae10-d9cf3cd673dc",
   "metadata": {},
   "outputs": [],
   "source": [
    "CATS_df.Device"
   ]
  },
  {
   "cell_type": "markdown",
   "id": "c7d12567-ea60-4225-9fe9-fc75c75afa95",
   "metadata": {},
   "source": [
    "How many unique bus ID's do we have?"
   ]
  },
  {
   "cell_type": "code",
   "execution_count": null,
   "id": "a956c4b8-7d85-4411-9f60-80a3e3ccb615",
   "metadata": {},
   "outputs": [],
   "source": [
    "CATS_df['Bus ID'].unique()"
   ]
  },
  {
   "cell_type": "code",
   "execution_count": null,
   "id": "fe7ccb41-2b7f-4382-9172-48d0a50e48f8",
   "metadata": {},
   "outputs": [],
   "source": [
    "CATS_df['Bus ID'].count()"
   ]
  },
  {
   "cell_type": "markdown",
   "id": "45209fef-e594-496f-becf-750cb5e83d5c",
   "metadata": {},
   "source": [
    "So what about the Green Route specifically??\n",
    "\n",
    "Let's narrow this down to just Green stops.\n",
    "\n",
    "Note that we are not changing any values, .loc (we have locate and index locate, iloc) that return a DataFrame but we are not saving them atm"
   ]
  },
  {
   "cell_type": "code",
   "execution_count": null,
   "id": "662817f0-8de0-4ae1-b330-54ab04b3b480",
   "metadata": {},
   "outputs": [],
   "source": [
    "CATS_df.loc[CATS_df['Route'] == 'Green']"
   ]
  },
  {
   "cell_type": "markdown",
   "id": "0f5f8820-8513-4dd2-b0d9-b7d8dd2fdfc0",
   "metadata": {},
   "source": [
    "Okay saving the Green route might be useful"
   ]
  },
  {
   "cell_type": "code",
   "execution_count": null,
   "id": "d102a411-bca7-4e6c-b7f5-b7bab8c7467a",
   "metadata": {},
   "outputs": [],
   "source": [
    "green_route = CATS_df.loc[CATS_df['Route'] == 'Green']"
   ]
  },
  {
   "cell_type": "code",
   "execution_count": null,
   "id": "63781676-a0cc-4d9a-a033-334d05e8ccff",
   "metadata": {},
   "outputs": [],
   "source": [
    "green_route['Stop'].unique()"
   ]
  },
  {
   "cell_type": "markdown",
   "id": "25f0f391-32d0-4922-9b9c-19fec120fd55",
   "metadata": {},
   "source": [
    "How many times has it visited each stop???"
   ]
  },
  {
   "cell_type": "code",
   "execution_count": null,
   "id": "3a93bf05-8011-4f68-a276-5c01d173ee7f",
   "metadata": {},
   "outputs": [],
   "source": [
    "green_route['Stop'].value_counts()"
   ]
  },
  {
   "cell_type": "markdown",
   "id": "d84bf44f-4757-463a-a142-5ebddc949268",
   "metadata": {},
   "source": [
    "Plot it? Sure! We have Matplotlib and Seaborn. I like seaborn personally, it's built off of matplotlib.\n",
    "\n",
    "* https://matplotlib.org/stable/users/index\n",
    "\n",
    "* https://seaborn.pydata.org/examples/index.html"
   ]
  },
  {
   "cell_type": "code",
   "execution_count": null,
   "id": "989f73a8-3db1-4207-a943-3cd82373729b",
   "metadata": {},
   "outputs": [],
   "source": [
    "import seaborn as sns\n",
    "import matplotlib.pyplot as plt"
   ]
  },
  {
   "cell_type": "code",
   "execution_count": null,
   "id": "febd36f2-1544-4e17-9c9d-5e18bbe1895d",
   "metadata": {},
   "outputs": [],
   "source": [
    "sns.countplot(x = 'Stop', data = green_route)"
   ]
  },
  {
   "cell_type": "markdown",
   "id": "924512f8-b585-4b24-8b16-aad4ae4a759f",
   "metadata": {},
   "source": [
    "uhhh let's rotate the x-labels and make this plot larger... also new colors...one day"
   ]
  },
  {
   "cell_type": "code",
   "execution_count": null,
   "id": "792bb12c-6a1b-495f-808c-549000339ebd",
   "metadata": {},
   "outputs": [],
   "source": [
    "plt.figure(figsize=(12, 6))\n",
    "chart = sns.countplo### Prereqs - python, jupyter notebook/labt(x = 'Stop', data = green_route)\n",
    "chart.set_xticklabels(chart.get_xticklabels(), rotation=45, horizontalalignment='right')\n",
    "plt.show()"
   ]
  },
  {
   "cell_type": "code",
   "execution_count": null,
   "id": "90529c08-71b8-4a87-a6e6-d9bb9ff74d20",
   "metadata": {},
   "outputs": [],
   "source": []
  }
 ],
 "metadata": {
  "kernelspec": {
   "display_name": "Python [conda env:DataMining] *",
   "language": "python",
   "name": "conda-env-DataMining-py"
  },
  "language_info": {
   "codemirror_mode": {
    "name": "ipython",
    "version": 3
   },
   "file_extension": ".py",
   "mimetype": "text/x-python",
   "name": "python",
   "nbconvert_exporter": "python",
   "pygments_lexer": "ipython3",
   "version": "3.9.13"
  }
 },
 "nbformat": 4,
 "nbformat_minor": 5
}
